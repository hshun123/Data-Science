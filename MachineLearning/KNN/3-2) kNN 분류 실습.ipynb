{
 "cells": [
  {
   "cell_type": "markdown",
   "metadata": {},
   "source": [
    "# 데이터 불러오기"
   ]
  },
  {
   "cell_type": "code",
   "execution_count": 1,
   "metadata": {},
   "outputs": [],
   "source": [
    "## 필요한 패키지를 불러옵니다.\n",
    "import pandas as pd\n",
    "import os"
   ]
  },
  {
   "cell_type": "code",
   "execution_count": 2,
   "metadata": {},
   "outputs": [],
   "source": [
    "## 경로설정을 해줍니다.\n",
    "os.chdir(r'C:\\Users\\kmlam\\Documents\\러닝스푼즈\\기본 지도학습\\data')\n",
    "## 위의 경로설정은 제 컴퓨터를 기준으로 입력한 것으로 각자 데이터를 저장한 위치에 맞게 바꿔주시기 바랍니다."
   ]
  },
  {
   "cell_type": "code",
   "execution_count": 3,
   "metadata": {},
   "outputs": [],
   "source": [
    "## 데이터를 불러옵니다.\n",
    "iris = pd.read_csv(\"IRIS.csv\")\n",
    "## 위의 실습 데이터는 러닝스푼즈 홈페이지에서도 다운받으실 수 있습니다."
   ]
  },
  {
   "cell_type": "code",
   "execution_count": 4,
   "metadata": {},
   "outputs": [
    {
     "data": {
      "text/plain": [
       "Iris-virginica     50\n",
       "Iris-versicolor    50\n",
       "Iris-setosa        50\n",
       "Name: species, dtype: int64"
      ]
     },
     "execution_count": 4,
     "metadata": {},
     "output_type": "execute_result"
    }
   ],
   "source": [
    "## 타겟 변수의 구성을 살펴봅니다.\n",
    "iris['species'].value_counts()"
   ]
  },
  {
   "cell_type": "code",
   "execution_count": 5,
   "metadata": {},
   "outputs": [],
   "source": [
    "## 아이디를 생성합니다.\n",
    "iris['id'] = range(len(iris))"
   ]
  },
  {
   "cell_type": "code",
   "execution_count": 6,
   "metadata": {},
   "outputs": [],
   "source": [
    "## 열의 순서를 바꿉니다.\n",
    "iris = iris[['id','sepal_length','sepal_width','petal_length','petal_width','species']]"
   ]
  },
  {
   "cell_type": "markdown",
   "metadata": {},
   "source": [
    "# knn 실습(분류)"
   ]
  },
  {
   "cell_type": "markdown",
   "metadata": {},
   "source": [
    "<strong>특징</strong>\n",
    "1. 데이터가 많으면 느리다."
   ]
  },
  {
   "cell_type": "markdown",
   "metadata": {},
   "source": [
    "<strong>파라미터</strong>\n",
    "1. n_neighbors: 가장 가까운 몇 개를 볼건지"
   ]
  },
  {
   "cell_type": "markdown",
   "metadata": {},
   "source": [
    "<strong>knn 학습시키기</strong>"
   ]
  },
  {
   "cell_type": "code",
   "execution_count": 7,
   "metadata": {},
   "outputs": [],
   "source": [
    "## iris 중에서 100개를 랜덤으로 추출해 train 데이터로 지정합니다.\n",
    "train = iris.sample(100,replace=False,random_state=2020).reset_index().drop(['index'],axis=1)"
   ]
  },
  {
   "cell_type": "code",
   "execution_count": 8,
   "metadata": {},
   "outputs": [],
   "source": [
    "## 추출되지 않은 나머지를 test 데이터로 지정합니다.\n",
    "test = iris.loc[ ~iris['id'].isin(train['id']) ]\n",
    "test = test.reset_index().drop(['index'],axis=1)"
   ]
  },
  {
   "cell_type": "code",
   "execution_count": 9,
   "metadata": {},
   "outputs": [],
   "source": [
    "## knn을 위한 패키지를 임포트합니다.\n",
    "from sklearn.neighbors import KNeighborsClassifier\n",
    "\n",
    "knn = KNeighborsClassifier(n_neighbors=2)"
   ]
  },
  {
   "cell_type": "code",
   "execution_count": 11,
   "metadata": {},
   "outputs": [
    {
     "data": {
      "text/plain": [
       "KNeighborsClassifier(algorithm='auto', leaf_size=30, metric='minkowski',\n",
       "                     metric_params=None, n_jobs=None, n_neighbors=2, p=2,\n",
       "                     weights='uniform')"
      ]
     },
     "execution_count": 11,
     "metadata": {},
     "output_type": "execute_result"
    }
   ],
   "source": [
    "## knn 모델을 train 데이터에서 학습시킵니다.\n",
    "knn.fit( train[['sepal_length','sepal_width','petal_length','petal_width']] , train['species'] )"
   ]
  },
  {
   "cell_type": "code",
   "execution_count": 12,
   "metadata": {},
   "outputs": [],
   "source": [
    "## 예측을 진행합니다.\n",
    "predictions = knn.predict( test[['sepal_length','sepal_width','petal_length','petal_width']] )"
   ]
  },
  {
   "cell_type": "code",
   "execution_count": 13,
   "metadata": {
    "scrolled": true
   },
   "outputs": [
    {
     "data": {
      "text/plain": [
       "0.94"
      ]
     },
     "execution_count": 13,
     "metadata": {},
     "output_type": "execute_result"
    }
   ],
   "source": [
    "## 정확도를 살펴봅니다.\n",
    "(pd.Series(predictions) == test['species']).mean()"
   ]
  },
  {
   "cell_type": "markdown",
   "metadata": {},
   "source": [
    "<strong>최적의 k 찾기</strong>"
   ]
  },
  {
   "cell_type": "code",
   "execution_count": 14,
   "metadata": {
    "scrolled": true
   },
   "outputs": [
    {
     "name": "stdout",
     "output_type": "stream",
     "text": [
      "0.94\n",
      "0.94\n",
      "0.98\n",
      "0.98\n",
      "0.98\n",
      "0.96\n",
      "0.98\n",
      "0.98\n",
      "0.98\n",
      "0.98\n",
      "0.98\n",
      "0.98\n",
      "0.98\n",
      "0.98\n",
      "0.98\n",
      "0.98\n",
      "0.98\n",
      "0.98\n",
      "0.98\n",
      "0.96\n",
      "0.96\n",
      "0.96\n",
      "0.96\n",
      "0.96\n",
      "0.96\n",
      "0.96\n",
      "0.96\n",
      "0.96\n",
      "0.96\n"
     ]
    }
   ],
   "source": [
    "## 최적의 k를 찾습니다.\n",
    "## 아래의 결과값들은 운영하시는 컴퓨터에 따라 달라질 수 있습니다.\n",
    "for k in range(1,30):\n",
    "    knn = KNeighborsClassifier(n_neighbors=k)\n",
    "    knn.fit( train[['sepal_length','sepal_width','petal_length','petal_width']] , train['species'] )\n",
    "    predictions = knn.predict( test[['sepal_length','sepal_width','petal_length','petal_width']] )\n",
    "    print((pd.Series(predictions) == test['species']).mean())"
   ]
  },
  {
   "cell_type": "code",
   "execution_count": 16,
   "metadata": {},
   "outputs": [],
   "source": [
    "## 필요한 패키지를 임포트합니다.\n",
    "from sklearn.model_selection import cross_val_score\n",
    "import numpy as np"
   ]
  },
  {
   "cell_type": "markdown",
   "metadata": {},
   "source": [
    "<strong>Cross Validation</strong>"
   ]
  },
  {
   "cell_type": "markdown",
   "metadata": {},
   "source": [
    "Cross validation을 통해 최적의 k를 찾습니다.<br>\n",
    "<strong>해당 사항은 추후 cross validation을 다루는 강의에서 다룰 것이기에 지금은 넘어가셔도 좋습니다.</strong>"
   ]
  },
  {
   "cell_type": "code",
   "execution_count": 1,
   "metadata": {
    "scrolled": true
   },
   "outputs": [],
   "source": [
    "# for k in range(1,30):\n",
    "#     knn = KNeighborsClassifier(n_neighbors=k)\n",
    "#     scores = cross_val_score(knn, iris[['sepal_length','sepal_width','petal_length','petal_width']], iris['species'], cv=5)\n",
    "#     print(np.mean(scores))"
   ]
  },
  {
   "cell_type": "markdown",
   "metadata": {},
   "source": [
    "# knn 실습(회귀)"
   ]
  },
  {
   "cell_type": "code",
   "execution_count": 67,
   "metadata": {},
   "outputs": [],
   "source": [
    "## 회귀를 위해 필요한 컬럼을 제거합니다.\n",
    "del train['species']\n",
    "del test['species']"
   ]
  },
  {
   "cell_type": "code",
   "execution_count": 69,
   "metadata": {},
   "outputs": [],
   "source": [
    "## 모델을 정의합니다.\n",
    "from sklearn.neighbors import KNeighborsRegressor\n",
    "\n",
    "knn = KNeighborsRegressor(n_neighbors=2)"
   ]
  },
  {
   "cell_type": "code",
   "execution_count": 71,
   "metadata": {},
   "outputs": [
    {
     "data": {
      "text/plain": [
       "KNeighborsRegressor(algorithm='auto', leaf_size=30, metric='minkowski',\n",
       "                    metric_params=None, n_jobs=None, n_neighbors=2, p=2,\n",
       "                    weights='uniform')"
      ]
     },
     "execution_count": 71,
     "metadata": {},
     "output_type": "execute_result"
    }
   ],
   "source": [
    "## knn 모델을 학습시킵니다.\n",
    "\n",
    "knn.fit( train[['sepal_length','sepal_width','petal_length']] , train['petal_width'] )"
   ]
  },
  {
   "cell_type": "code",
   "execution_count": 72,
   "metadata": {},
   "outputs": [],
   "source": [
    "## 예측합니다.\n",
    "\n",
    "predictions = knn.predict( test[['sepal_length','sepal_width','petal_length']] )"
   ]
  },
  {
   "cell_type": "code",
   "execution_count": 73,
   "metadata": {},
   "outputs": [
    {
     "data": {
      "text/plain": [
       "array([0.2 , 0.2 , 0.2 , 0.1 , 0.3 , 0.25, 0.25, 0.2 , 0.25, 0.15, 0.2 ,\n",
       "       0.2 , 1.55, 1.4 , 1.25, 1.65, 1.35, 1.35, 1.25, 1.4 , 1.15, 1.4 ,\n",
       "       1.65, 1.15, 1.15, 1.25, 1.9 , 1.3 , 1.65, 1.25, 1.  , 2.35, 2.3 ,\n",
       "       2.  , 2.15, 2.05, 1.9 , 2.05, 2.4 , 2.4 , 1.8 , 2.1 , 2.35, 1.85,\n",
       "       2.  , 2.05, 1.8 , 2.3 , 2.15, 2.  ])"
      ]
     },
     "execution_count": 73,
     "metadata": {},
     "output_type": "execute_result"
    }
   ],
   "source": [
    "predictions"
   ]
  },
  {
   "cell_type": "markdown",
   "metadata": {},
   "source": [
    "<strong>mae</strong>\n",
    "\n",
    "회귀문제에서 모델의 성능을 평가하는 방법"
   ]
  },
  {
   "cell_type": "code",
   "execution_count": 79,
   "metadata": {},
   "outputs": [
    {
     "data": {
      "text/plain": [
       "0.16699999999999995"
      ]
     },
     "execution_count": 79,
     "metadata": {},
     "output_type": "execute_result"
    }
   ],
   "source": [
    "abs(test['petal_width'] - pd.Series(predictions)).mean()"
   ]
  },
  {
   "cell_type": "markdown",
   "metadata": {},
   "source": [
    "<strong>최적의 k 찾기</strong>"
   ]
  },
  {
   "cell_type": "code",
   "execution_count": 85,
   "metadata": {
    "scrolled": true
   },
   "outputs": [
    {
     "name": "stdout",
     "output_type": "stream",
     "text": [
      "1 :0.196\n",
      "2 :0.16699999999999995\n",
      "3 :0.1673333333333333\n",
      "4 :0.1655\n",
      "5 :0.16839999999999994\n",
      "6 :0.1619999999999999\n",
      "7 :0.16342857142857137\n",
      "8 :0.16125\n",
      "9 :0.16155555555555556\n",
      "10 :0.16260000000000002\n",
      "11 :0.16254545454545455\n",
      "12 :0.1635\n",
      "13 :0.1636923076923077\n",
      "14 :0.1695714285714286\n",
      "15 :0.1738666666666667\n",
      "16 :0.17587499999999995\n",
      "17 :0.18282352941176455\n",
      "18 :0.18955555555555553\n",
      "19 :0.1913684210526316\n",
      "20 :0.19329999999999994\n",
      "21 :0.19780952380952382\n",
      "22 :0.20045454545454547\n",
      "23 :0.20330434782608697\n",
      "24 :0.2045\n",
      "25 :0.2084800000000001\n",
      "26 :0.2123076923076923\n",
      "27 :0.21599999999999997\n",
      "28 :0.21878571428571422\n",
      "29 :0.22365517241379315\n"
     ]
    }
   ],
   "source": [
    "## 최적의 k를 찾습니다.\n",
    "## 아래의 결과값들은 운영하시는 컴퓨터에 따라 달라질 수 있습니다.\n",
    "for k in range(1,30):\n",
    "    knn = KNeighborsRegressor(n_neighbors=k)\n",
    "\n",
    "    knn.fit( train[['sepal_length','sepal_width','petal_length']] , train['petal_width'] )\n",
    "\n",
    "    predictions = knn.predict( test[['sepal_length','sepal_width','petal_length']] )\n",
    "    \n",
    "    print(str(k)+' :'+str(abs(test['petal_width'] - pd.Series(predictions)).mean()))"
   ]
  },
  {
   "cell_type": "markdown",
   "metadata": {},
   "source": [
    "최적의 k는 8이다."
   ]
  }
 ],
 "metadata": {
  "kernelspec": {
   "display_name": "Python 3",
   "language": "python",
   "name": "python3"
  },
  "language_info": {
   "codemirror_mode": {
    "name": "ipython",
    "version": 3
   },
   "file_extension": ".py",
   "mimetype": "text/x-python",
   "name": "python",
   "nbconvert_exporter": "python",
   "pygments_lexer": "ipython3",
   "version": "3.8.5"
  },
  "toc": {
   "base_numbering": 1,
   "nav_menu": {},
   "number_sections": true,
   "sideBar": true,
   "skip_h1_title": false,
   "title_cell": "Table of Contents",
   "title_sidebar": "Contents",
   "toc_cell": false,
   "toc_position": {},
   "toc_section_display": true,
   "toc_window_display": false
  }
 },
 "nbformat": 4,
 "nbformat_minor": 2
}
